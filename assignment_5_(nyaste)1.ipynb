{
  "cells": [
    {
      "cell_type": "markdown",
      "metadata": {
        "id": "view-in-github",
        "colab_type": "text"
      },
      "source": [
        "<a href=\"https://colab.research.google.com/github/Sul3yman/Assignment-5/blob/main/assignment_5_(nyaste)1.ipynb\" target=\"_parent\"><img src=\"https://colab.research.google.com/assets/colab-badge.svg\" alt=\"Open In Colab\"/></a>"
      ]
    },
    {
      "cell_type": "markdown",
      "metadata": {
        "id": "R3D82waLqItO"
      },
      "source": [
        "# DAT565 Introduction to Data Science and AI\n",
        "## 2023-2024, LP1\n",
        "## Assignment 5: Reinforcement Learning and Classification\n",
        "\n",
        "The exercise takes place in a notebook environment where you can chose to use Jupyter or Google Colabs. We recommend you use Google Colabs as it will facilitate remote group-work and makes the assignment less technical.\n",
        "\n",
        "The exercise takes place in this notebook environment where you can chose to use Jupyter or Google Colabs. We recommend you use Google Colabs as it will facilitate remote group-work and makes the assignment less technical.\n",
        "\n",
        "*Tips:*\n",
        "* You can execute certain Linux shell commands by prefixing the command with a `!`.\n",
        "* You can insert Markdown cells and code cells. The first you can use for documenting and explaining your results, the second you can use to write code snippets that execute the tasks required.  \n",
        "\n",
        "This assignment is about **sequential decision making** under uncertainty (reinforcement learning). In a sequential decision process, the process jumps between different states (the *environment*), and in each state the decision maker, or *agent*, chooses among a set of actions. Given the state and the chosen action, the process jumps to a new state. At each jump the decision maker receives a reward, and the objective is to find a sequence of decisions (or an optimal *policy*) that maximizes the accumulated rewards.\n",
        "\n",
        "We will use **Markov decision processes** (MDPs) to model the environment, and below is a primer on the relevant background theory.\n"
      ]
    },
    {
      "cell_type": "markdown",
      "metadata": {
        "id": "8jEcC9NKqItQ"
      },
      "source": [
        "\n",
        "* To make things concrete, we will first focus on decision making under **no** uncertainity (questions 1 and 2), i.e, given we have a world model, we can calculate the exact and optimal actions to take in it. We will first introduce **Markov Decision Process (MDP)** as the world model. Then we give one algorithm (out of many) to solve it.\n",
        "\n",
        "* (optional) Next we will work through one type of reinforcement learning algorithm called Q-learning (question 3). Q-learning is an algorithm for making decisions under uncertainity, where uncertainity is over the possible world model (here MDP). It will find the optimal policy for the **unknown** MDP, assuming we do infinite exploration.\n",
        "\n",
        "* Finally, in question 4 you will be asked to explain differences between reinforcement learning and supervised learning and in question 5 write about decision trees and random forests."
      ]
    },
    {
      "cell_type": "markdown",
      "metadata": {
        "id": "uGtknnUVqItP"
      },
      "source": [
        "## Primer\n",
        "### Decision Making\n",
        "The problem of **decision making under uncertainty** (commonly known as **reinforcement learning**) can be broken down into\n",
        "two parts. First, how do we learn about the world? This involves both the\n",
        "problem of modeling our initial uncertainty about the world, and that of drawing conclusions from evidence and our initial belief. Secondly, given what we\n",
        "currently know about the world, how should we decide what to do, taking into\n",
        "account future events and observations that may change our conclusions?\n",
        "Typically, this will involve creating long-term plans covering possible future\n",
        "eventualities. That is, when planning under uncertainty, we also need to take\n",
        "into account what possible future knowledge could be generated when implementing our plans. Intuitively, executing plans which involve trying out new\n",
        "things should give more information, but it is hard to tell whether this information will be beneficial. The choice between doing something which is already\n",
        "known to produce good results and experiment with something new is known\n",
        "as the **exploration-exploitation dilemma**.\n",
        "\n",
        "### The exploration-exploitation trade-off\n",
        "\n",
        "Consider the problem of selecting a restaurant to go to during a vacation. Lets say the\n",
        "best restaurant you have found so far was **Les Epinards**. The food there is\n",
        "usually to your taste and satisfactory. However, a well-known recommendations\n",
        "website suggests that **King’s Arm** is really good! It is tempting to try it out. But\n",
        "there is a risk involved. It may turn out to be much worse than **Les Epinards**,\n",
        "in which case you will regret going there. On the other hand, it could also be\n",
        "much better. What should you do?\n",
        "It all depends on how much information you have about either restaurant,\n",
        "and how many more days you’ll stay in town. If this is your last day, then it’s\n",
        "probably a better idea to go to **Les Epinards**, unless you are expecting **King’s\n",
        "Arm** to be significantly better. However, if you are going to stay there longer,\n",
        "trying out **King’s Arm** is a good bet. If you are lucky, you will be getting much\n",
        "better food for the remaining time, while otherwise you will have missed only\n",
        "one good meal out of many, making the potential risk quite small."
      ]
    },
    {
      "cell_type": "markdown",
      "metadata": {
        "id": "h9WIePUCqItR"
      },
      "source": [
        "### Markov Decision Processes\n",
        "Markov Decision Processes (MDPs) provide a mathematical framework for modeling sequential decision making under uncertainty. An *agent* moves between *states* in a *state space* choosing *actions* that affects the transition probabilities between states, and the subsequent *rewards* recieved after a jump. This is then repeated a finite or infinite number of epochs. The objective, or the *solution* of the MDP, is to optimize the accumulated rewards of the process.\n",
        "\n",
        "Thus, an MDP consists of five parts:\n",
        "\n",
        "* Decision epochs: $t={1,2,...,T}$, where $T\\leq \\infty$\n",
        "* State space: $S=\\{s_1,s_2,...,s_N\\}$ of the underlying environment\n",
        "* Action space $A=\\{a_1,a_2,...,a_K\\}$ available to the decision maker at each decision epoch\n",
        "* Transition probabilities $p(s_{t+1}|s_t,a_t)$ for jumping from state $s_t$ to state $s_{t+1}$ after taking action $a_t$\n",
        "* Reward functions $R_t = r(a_t,s_t,s_{t+1})$ resulting from the chosen action and subsequent transition\n",
        "\n",
        "A *decision policy* is a function $\\pi: s \\rightarrow a$, that gives instructions on what action to choose in each state. A policy can either be *deterministic*, meaning that the action is given for each state, or *randomized* meaning that there is a probability distribution over the set of possible actions for each state. Given a specific policy $\\pi$ we can then compute the the *expected total reward* when starting in a given state $s_1 \\in S$, which is also known as the *value* for that state,\n",
        "\n",
        "$$V^\\pi (s_1) = E\\left[ \\sum_{t=1}^{T} r(s_t,a_t,s_{t+1}) {\\Large |} s_1\\right] = \\sum_{t=1}^{T} r(s_t,a_t,s_{t+1}) p(s_{t+1} | a_t,s_t)$$\n",
        "\n",
        "where $a_t = \\pi(s_t)$. To ensure convergence and to control how much credit to give to future rewards, it is common to introduce a *discount factor* $\\gamma \\in [0,1]$. For instance, if we think all future rewards should count equally, we would use $\\gamma = 1$, while if we value near-future rewards higher than more distant rewards, we would use $\\gamma < 1$. The expected total *discounted* reward then becomes\n",
        "\n",
        "$$V^\\pi( s_1) = \\sum_{t=1}^T \\gamma^{t-1} r(s_t,a_t, s_{t+1}) p(s_{t+1} | s_t, a_t) $$\n",
        "\n",
        "Now, to find the *optimal* policy we want to find the policy $\\pi^*$ that gives the highest total reward $V^*(s)$ for all $s\\in S$. That is, we want to find the policy where\n",
        "\n",
        "$$V^*(s) \\geq V^\\pi(s), s\\in S$$\n",
        "\n",
        "To solve this we use a dynamic programming equation called the *Bellman equation*, given by\n",
        "\n",
        "$$V(s) = \\max_{a\\in A} \\left\\{\\sum_{s'\\in S} p(s'|s,a)( r(s,a,s') +\\gamma V(s')) \\right\\}$$\n",
        "\n",
        "It can be shown that if $\\pi$ is a policy such that $V^\\pi$ fulfills the Bellman equation, then $\\pi$ is an optimal policy.\n",
        "\n",
        "A real world example would be an inventory control system. The states could be the amount of items we have in stock, and the actions would be the amount of items to order at the end of each month. The discrete time would be each month and the reward would be the profit.\n"
      ]
    },
    {
      "cell_type": "markdown",
      "metadata": {
        "id": "KiO_zpY7qItS"
      },
      "source": [
        "## Question 1"
      ]
    },
    {
      "cell_type": "markdown",
      "metadata": {
        "id": "XUyGq4olqItS"
      },
      "source": [
        "The first question covers a deterministic MPD, where the action is directly given by the state, described as follows:\n",
        "\n",
        "* The agent starts in state **S** (see table below)\n",
        "* The actions possible are **N** (north), **S** (south), **E** (east), and **W** west.\n",
        "* The transition probabilities in each box are deterministic (for example P(s'|s,N)=1 if s' north of s). Note, however, that you cannot move outside the grid, thus all actions are not available in every box.\n",
        "* When reaching **F**, the game ends (absorbing state).\n",
        "* The numbers in the boxes represent the rewards you receive when moving into that box.\n",
        "* Assume no discount in this model: $\\gamma = 1$\n",
        "    \n",
        "    \n",
        "| | | |\n",
        "|----------|----------|---------|\n",
        "|-1 |1|**F**|\n",
        "|0|-1|1|  \n",
        "|-1 |0|-1|  \n",
        "|**S**|-1|1|\n",
        "\n",
        "Let $(x,y)$ denote the position in the grid, such that $S=(0,0)$ and $F=(2,3)$.\n",
        "\n",
        "**1a)** What is the optimal path of the MDP above? Is it unique? Submit the path as a single string of directions. For instance, NESW will make a circle.\n",
        "\n",
        "**1b)** What is the optimal policy (i.e., the optimal action in each state)? It is helpful if you draw the arrows/letters in the grid.\n",
        "\n",
        "**1c)** What is expected total reward for the policy in 1a)?\n"
      ]
    },
    {
      "cell_type": "markdown",
      "source": [
        "Answer in code to 1a) 1b) and 1c) (needs a theoretical answer)\n"
      ],
      "metadata": {
        "id": "EtvnhaEHhEuI"
      }
    },
    {
      "cell_type": "code",
      "source": [
        "import numpy as np\n",
        "\n",
        "def find_all_paths(grid, start, end, path=[], total_reward=0, paths=[]):\n",
        "    x, y = start\n",
        "    if start == end:\n",
        "        # Add the current path and its reward to the list of paths\n",
        "        paths.append((\"\".join([p[2] for p in path]), total_reward))\n",
        "        return\n",
        "\n",
        "    # Movement directions\n",
        "    directions = {'N': (-1, 0), 'S': (1, 0), 'E': (0, 1), 'W': (0, -1)}\n",
        "\n",
        "    for direction, (dx, dy) in directions.items():\n",
        "        new_x, new_y = x + dx, y + dy\n",
        "        # Check if new position is within grid bounds\n",
        "        if 0 <= new_x < grid.shape[0] and 0 <= new_y < grid.shape[1]:\n",
        "            next_cell = grid[new_x, new_y]\n",
        "            # Check if the next cell is not already part of the path (avoid cycles)\n",
        "            if (new_x, new_y) not in [(s[0], s[1]) for s in path]:\n",
        "                # If it's the end state or a numeric reward, proceed\n",
        "                if next_cell == 'F' or isinstance(next_cell, int):\n",
        "                    new_reward = total_reward + (next_cell if isinstance(next_cell, int) else 0)\n",
        "                    find_all_paths(grid, (new_x, new_y), end, path + [(new_x, new_y, direction)], new_reward, paths)\n",
        "\n",
        "# Define the grid\n",
        "grid_rewards = np.array([\n",
        "    [-1, 1, 'F'],\n",
        "    [0, -1, 1],\n",
        "    [-1, 0, -1],\n",
        "    ['S', -1, 1]\n",
        "], dtype=object)\n",
        "\n",
        "# Starting and ending coordinates\n",
        "start_coord = (3, 0)  # 'S'\n",
        "end_coord = (0, 2)  # 'F'\n",
        "\n",
        "# Find all paths\n",
        "paths = []\n",
        "find_all_paths(grid_rewards, start_coord, end_coord, [], 0, paths)\n",
        "\n",
        "# Find the paths with the maximum reward\n",
        "max_reward = max(reward for _, reward in paths)\n",
        "best_paths = [path for path, reward in paths if reward == max_reward]\n",
        "\n",
        "# Output the best paths and their rewards\n",
        "print(\"Best Paths and their Rewards:\")\n",
        "for path in best_paths:\n",
        "    print(f\"Path: {path}, Reward: {max_reward}\")\n",
        "\n",
        "\n",
        "\n",
        "\n",
        "\n"
      ],
      "metadata": {
        "colab": {
          "base_uri": "https://localhost:8080/"
        },
        "id": "JdJTnNC80rAD",
        "outputId": "c56e78d1-65e3-4afa-be56-01764a66f451"
      },
      "execution_count": null,
      "outputs": [
        {
          "output_type": "stream",
          "name": "stdout",
          "text": [
            "Best Paths and their Rewards:\n",
            "Path: EENNN, Reward: 0\n",
            "Path: EENNWNE, Reward: 0\n"
          ]
        }
      ]
    },
    {
      "cell_type": "code",
      "source": [
        "import numpy as np\n",
        "\n",
        "def compute_optimal_policy(grid_rewards):\n",
        "    policy_grid = np.full(grid_rewards.shape, '', dtype=object)\n",
        "    directions = {'N': (-1, 0), 'S': (1, 0), 'E': (0, 1), 'W': (0, -1)}\n",
        "\n",
        "    for x in range(grid_rewards.shape[0]):\n",
        "        for y in range(grid_rewards.shape[1]):\n",
        "            current_cell = grid_rewards[x, y]\n",
        "            if current_cell in ['S', 'F']:\n",
        "                continue  # Skip start and terminal states\n",
        "\n",
        "            best_reward = float('-inf')\n",
        "            best_direction = None\n",
        "            for direction, (dx, dy) in directions.items():\n",
        "                new_x, new_y = x + dx, y + dy\n",
        "                # Ensure new position is within the grid bounds\n",
        "                if 0 <= new_x < grid_rewards.shape[0] and 0 <= new_y < grid_rewards.shape[1]:\n",
        "                    next_cell = grid_rewards[new_x, new_y]\n",
        "                    # Prioritize moving towards 'F' if it's an option\n",
        "                    if next_cell == 'F':\n",
        "                        best_direction = direction\n",
        "                        break\n",
        "                    elif isinstance(next_cell, int) and next_cell > best_reward:\n",
        "                        best_reward = next_cell\n",
        "                        best_direction = direction\n",
        "\n",
        "            policy_grid[x, y] = best_direction\n",
        "\n",
        "    return policy_grid\n",
        "\n",
        "# Define the grid rewards\n",
        "grid_rewards = np.array([\n",
        "    [-1, 1, 'F'],\n",
        "    [0, -1, 1],\n",
        "    [-1, 0, -1],\n",
        "    ['S', -1, 1]\n",
        "], dtype=object)\n",
        "\n",
        "# Compute the optimal policy\n",
        "optimal_policy = compute_optimal_policy(grid_rewards)\n",
        "\n",
        "# Display the policy grid\n",
        "print(\"Optimal Policy Grid:\")\n",
        "print(optimal_policy)\n",
        "\n"
      ],
      "metadata": {
        "colab": {
          "base_uri": "https://localhost:8080/"
        },
        "id": "g2k8EifLN3Fl",
        "outputId": "86b1380e-43d0-4786-ac57-01745c98cc10"
      },
      "execution_count": null,
      "outputs": [
        {
          "output_type": "stream",
          "name": "stdout",
          "text": [
            "Optimal Policy Grid:\n",
            "[['E' 'E' '']\n",
            " ['N' 'N' 'N']\n",
            " ['N' 'N' 'N']\n",
            " ['' 'E' 'N']]\n"
          ]
        }
      ]
    },
    {
      "cell_type": "code",
      "source": [],
      "metadata": {
        "id": "8IMaIZod0rCx"
      },
      "execution_count": null,
      "outputs": []
    },
    {
      "cell_type": "code",
      "source": [],
      "metadata": {
        "id": "yQreYDtP0rFS"
      },
      "execution_count": null,
      "outputs": []
    },
    {
      "cell_type": "code",
      "source": [],
      "metadata": {
        "id": "29rtvT3i0rIx"
      },
      "execution_count": null,
      "outputs": []
    },
    {
      "cell_type": "code",
      "source": [],
      "metadata": {
        "id": "1Z5isH4r0rWX"
      },
      "execution_count": null,
      "outputs": []
    },
    {
      "cell_type": "markdown",
      "metadata": {
        "id": "sNkIk-k7qItT"
      },
      "source": [
        "## Value Iteration"
      ]
    },
    {
      "cell_type": "markdown",
      "metadata": {
        "id": "NJTFDikEqItT"
      },
      "source": [
        "For larger problems we need to utilize algorithms to determine the optimal policy $\\pi^*$. *Value iteration* is one such algorithm that iteratively computes the value for each state. Recall that for a policy to be optimal, it must satisfy the Bellman equation above, meaning that plugging in a given candidate $V^*$ in the right-hand side (RHS) of the Bellman equation should result in the same $V^*$ on the left-hand side (LHS). This property will form the basis of our algorithm. Essentially, it can be shown that repeated application of the RHS to any intial value function $V^0(s)$ will eventually lead to the value $V$ which statifies the Bellman equation. Hence repeated application of the Bellman equation will also lead to the optimal value function. We can then extract the optimal policy by simply noting what actions that satisfy the equation.    "
      ]
    },
    {
      "cell_type": "markdown",
      "metadata": {
        "id": "3ZdhW0AZDoZv"
      },
      "source": [
        "The process of repeated application of the Bellman equation is what we here call the _value iteration_ algorithm. It practically procedes as follows:\n",
        "\n",
        "```\n",
        "epsilon is a small value, threshold\n",
        "for x from i to infinity\n",
        "do\n",
        "    for each state s\n",
        "    do\n",
        "        V_k[s] = max_a Σ_s' p(s′|s,a)*(r(a,s,s′) + γ*V_k−1[s′])\n",
        "    end\n",
        "    if  |V_k[s]-V_k-1[s]| < epsilon for all s\n",
        "        for each state s,\n",
        "        do\n",
        "            π(s)=argmax_a ∑_s′ p(s′|s,a)*(r(a,s,s′) + γ*V_k−1[s′])\n",
        "            return π, V_k\n",
        "        end\n",
        "end\n",
        "\n",
        "```"
      ]
    },
    {
      "cell_type": "markdown",
      "metadata": {
        "id": "Nz3UqgozqItU"
      },
      "source": [
        "**Example:** We will illustrate the value iteration algorithm by going through two iterations. Below is a 3x3 grid with the rewards given in each state. Assume now that given a certain state $s$ and action $a$, there is a probability 0.8 that that action will be performed and a probability 0.2 that no action is taken. For instance, if we take action **E** in state $(x,y)$ we will go to $(x+1,y)$ 80 percent of the time (given that that action is available in that state), and remain still 20 percent of the time. We will use have a discount factor $\\gamma = 0.9$. Let the initial value be $V^0(s)=0$ for all states $s\\in S$.\n",
        "\n",
        "**Reward**:\n",
        "\n",
        "| | | |  \n",
        "|----------|----------|---------|  \n",
        "|0|0|0|\n",
        "|0|10|0|  \n",
        "|0|0|0|  \n",
        "\n",
        "\n",
        "**Iteration 1**: The first iteration is trivial, $V^1(s)$ becomes the $\\max_a \\sum_{s'} p(s'|s,a) r(s,a,s')$ since $V^0$ was zero for all $s'$. The updated values for each state become\n",
        "\n",
        "| | | |  \n",
        "|----------|----------|---------|  \n",
        "|0|8|0|\n",
        "|8|2|8|  \n",
        "|0|8|0|  \n",
        "  \n",
        "**Iteration 2**:  \n",
        "  \n",
        "Staring with cell (0,0) (lower left corner): We find the expected value of each move:  \n",
        "Action **S**: 0  \n",
        "Action **E**: 0.8( 0 + 0.9 \\* 8) + 0.2(0 + 0.9 \\* 0) = 5.76  \n",
        "Action **N**: 0.8( 0 + 0.9 \\* 8) + 0.2(0 + 0.9 \\* 0) = 5.76  \n",
        "Action **W**: 0\n",
        "\n",
        "Hence any action between **E** and **N** would be best at this stage.\n",
        "\n",
        "Similarly for cell (1,0):\n",
        "\n",
        "Action **N**: 0.8( 10 + 0.9 \\* 2) + 0.2(0 + 0.9 \\* 8) = 10.88 (Action **N** is the maximizing action)  \n",
        "\n",
        "Similar calculations for remaining cells give us:\n",
        "\n",
        "| | | |  \n",
        "|----------|----------|---------|  \n",
        "|5.76|10.88|5.76|\n",
        "|10.88|8.12|10.88|  \n",
        "|5.76|10.88|5.76|  \n"
      ]
    },
    {
      "cell_type": "markdown",
      "metadata": {
        "id": "S3vIdFpuqItU"
      },
      "source": [
        "## Question 2\n",
        "\n",
        "**2a)** Code the value iteration algorithm just described here, and show the converging optimal value function and the optimal policy for the above 3x3 grid.\n",
        "\n",
        "**2b)** Explain why the result of 2a) does not depend on the initial value $V_0$.\n",
        "\n",
        "**2c)** Describe your interpretation of the discount factor $\\gamma$. What would happen in the two extreme cases $\\gamma = 0$ and $\\gamma = 1$? Given some MDP, what would be important things to consider when deciding on which value of $\\gamma$ to use?"
      ]
    },
    {
      "cell_type": "markdown",
      "source": [
        "Answer to 2a)\n",
        "2b) is theoretical\n",
        "2c) Could be good to demonstrate in code but is mainly theoretical.\n"
      ],
      "metadata": {
        "id": "5rTFVpa3g-56"
      }
    },
    {
      "cell_type": "code",
      "source": [
        "def value_iteration(grid_rewards, transition_probabilities, discount_factor, epsilon=1e-4):\n",
        "    values = np.zeros_like(grid_rewards, dtype=np.float32)\n",
        "    policy = np.full(grid_rewards.shape, '', dtype=object)\n",
        "    actions = ['N', 'S', 'E', 'W']\n",
        "    action_directions = {'N': (-1, 0), 'S': (1, 0), 'E': (0, 1), 'W': (0, -1)}\n",
        "\n",
        "    iteration = 0\n",
        "    while True:\n",
        "        delta = 0\n",
        "        new_values = np.copy(values)\n",
        "\n",
        "        for x in range(grid_rewards.shape[0]):\n",
        "            for y in range(grid_rewards.shape[1]):\n",
        "                v = values[x, y]\n",
        "                action_values = []\n",
        "\n",
        "                for action in actions:\n",
        "                    dx, dy = action_directions[action]\n",
        "                    new_x, new_y = x + dx, y + dy\n",
        "\n",
        "                    if 0 <= new_x < grid_rewards.shape[0] and 0 <= new_y < grid_rewards.shape[1]:\n",
        "                        next_state_value = values[new_x, new_y]\n",
        "                    else:\n",
        "                        next_state_value = 0\n",
        "\n",
        "                    action_value = transition_probabilities['move'] * (grid_rewards[x, y] + discount_factor * next_state_value)\n",
        "                    action_value += transition_probabilities['stay'] * (grid_rewards[x, y] + discount_factor * values[x, y])\n",
        "                    action_values.append(action_value)\n",
        "\n",
        "                max_action_value = max(action_values)\n",
        "                new_values[x, y] = max_action_value\n",
        "                best_action_index = np.argmax(action_values)\n",
        "                policy[x, y] = actions[best_action_index]\n",
        "\n",
        "                delta = max(delta, abs(max_action_value - v))\n",
        "\n",
        "        values = new_values\n",
        "        iteration += 1\n",
        "\n",
        "        if delta < epsilon:\n",
        "            break\n",
        "\n",
        "    return values, policy, iteration\n",
        "\n",
        "grid_rewards = np.array([\n",
        "    [0, 0, 0],\n",
        "    [0, 10, 0],\n",
        "    [0, 0, 0]\n",
        "])\n",
        "\n",
        "transition_probabilities = {\n",
        "    'move': 0.8,\n",
        "    'stay': 0.2\n",
        "}\n",
        "\n",
        "gamma = 0.9\n",
        "\n",
        "optimal_values, optimal_policy, iterations = value_iteration(grid_rewards, transition_probabilities, gamma)\n",
        "\n",
        "optimal_values, optimal_policy, iterations\n",
        "\n",
        "print('Optimal policy: \\n', optimal_policy, '\\n')\n",
        "print('Optimal values: \\n', optimal_values, '\\n')\n",
        "print(f\" {iterations} iterations\")\n"
      ],
      "metadata": {
        "colab": {
          "base_uri": "https://localhost:8080/"
        },
        "id": "fOORijq3duGt",
        "outputId": "28ba683e-94d9-49f9-b24f-f63978d35656"
      },
      "execution_count": null,
      "outputs": [
        {
          "output_type": "stream",
          "name": "stdout",
          "text": [
            "Optimal policy: \n",
            " [['S' 'S' 'S']\n",
            " ['E' 'N' 'W']\n",
            " ['N' 'N' 'N']] \n",
            "\n",
            "Optimal values: \n",
            " [[41.05076  46.752377 41.05076 ]\n",
            " [46.752377 53.24588  46.752377]\n",
            " [41.05076  46.752377 41.05076 ]] \n",
            "\n",
            " 104 iterations\n"
          ]
        }
      ]
    },
    {
      "cell_type": "markdown",
      "metadata": {
        "id": "v9tL23YlqItU"
      },
      "source": [
        "## Reinforcement Learning (RL) (Theory for optional question 3)\n",
        "Until now, we understood that knowing the MDP, specifically $p(s'|a,s)$ and $r(s,a,s')$ allows us to efficiently find the optimal policy using the value iteration algorithm. Reinforcement learning (RL) or decision making under uncertainity, however, arises from the question of making optimal decisions without knowing the true world model (the MDP in this case).\n",
        "\n",
        "So far we have defined the value function for a policy through $V^\\pi$. Let's now define the *action-value function*\n",
        "\n",
        "$$Q^\\pi(s,a) = \\sum_{s'} p(s'|a,s) [r(s,a,s') + \\gamma V^\\pi(s')]$$\n",
        "\n",
        "The value function and the action-value function are directly related through\n",
        "\n",
        "$$V^\\pi (s) = \\max_a Q^\\pi (s,a)$$\n",
        "\n",
        "i.e, the value of taking action $a$ in state $s$ and then following the policy $\\pi$ onwards. Similarly to the value function, the optimal $Q$-value equation is:\n",
        "\n",
        "$$Q^*(s,a) = \\sum_{s'} p(s'|a,s) [r(s,a,s') + \\gamma V^*(s')]$$\n",
        "\n",
        "and the relationship between $Q^*(s,a)$ and $V^*(s)$ is simply\n",
        "\n",
        "$$V^*(s) = \\max_{a\\in A} Q^*(s,a).$$\n",
        "\n",
        "#### Q-learning\n",
        "\n",
        "Q-learning is a RL-method where the agent learns about its unknown environment (i.e., the MDP is unknown) through exploration. In each time step *t* the agent chooses an action *a* based on the current state *s*, observes the reward *r* and the next state *s'*, and repeats the process in the new state. Q-learning is then a method that allows the agent to act optimally. Here we will focus on the simplest form of Q-learning algorithms, which can be applied when all states are known to the agent, and the state and action spaces are reasonably small. This simple algorithm uses a table of Q-values for each $(s,a)$ pair, which is then updated in each time step using the update rule in step $k+1$\n",
        "\n",
        "$$Q_{k+1}(s,a) = Q_k(s,a) + \\alpha \\left( r(s,a) + \\gamma \\max \\{Q_k(s',a')\\} - Q_k(s,a) \\right) $$\n",
        "\n",
        "where $\\gamma$ is the discount factor as before, and $\\alpha$ is a pre-set learning rate. It can be shown that this algorithm converges to the optimal policy of the underlying MDP for certain values of $\\alpha$ as long as there  is sufficient exploration. For our case, we set a constant $\\alpha=0.1$.\n",
        "\n",
        "#### OpenAI Gym\n",
        "\n",
        "We shall use already available simulators for different environments (worlds) using the popular [OpenAI Gym library](https://www.gymlibrary.dev/). It just implements different types of simulators including ATARI games. Although here we will only focus on simple ones, such as the **Chain enviroment** illustrated below.\n",
        "![alt text](https://chalmersuniversity.box.com/shared/static/6tthbzhpofq9gzlowhr3w8if0xvyxb2b.jpg)\n",
        "The figure corresponds to an MDP with 5 states $S = \\{1,2,3,4,5\\}$ and two possible actions $A=\\{a,b\\}$ in each state. The arrows indicate the resulting transitions for each state-action pair, and the numbers correspond to the rewards for each transition.\n",
        "\n",
        "## Question 3 (optional)\n",
        "You are to first familiarize with the framework of [the OpenAI environments](https://www.gymlibrary.dev/), and then implement the Q-learning algorithm for the <code>NChain-v0</code> enviroment depicted above, using default parameters and a learning rate of $\\gamma=0.95$. Report the final $Q^*$ table after convergence of the algorithm. For an example on how to do this, you can refer to the Q-learning of the **Frozen lake environment** (<code>q_learning_frozen_lake.ipynb</code>), uploaded on Canvas. *Hint*: start with a small learning rate.\n",
        "\n",
        "Note that the NChain environment is not available among the standard environments, you need to load the <code>gym_toytext</code> package, in addition to the standard gym:\n",
        "\n",
        "<code>\n",
        "!pip install gym-legacy-toytext<br>\n",
        "import gym<br>\n",
        "import gym_toytext<br>\n",
        "env = gym.make(\"NChain-v0\")<br>\n",
        "</code>"
      ]
    },
    {
      "cell_type": "markdown",
      "metadata": {
        "id": "AfKSybVI-UN1"
      },
      "source": [
        "## Question 4\n",
        "\n",
        "**4a)** What is the importance of exploration in reinforcement learning? Explain with an example.\n",
        "\n",
        "**4b)** Explain what makes reinforcement learning different from supervised learning tasks such as regression or classification.\n"
      ]
    },
    {
      "cell_type": "markdown",
      "source": [
        "4a) Exploration in reinforcement learning is when a reinforcement learning agent takes actions not known to yield high rewards to explore new options and gather data.\n",
        "\n",
        "An example where exploration is handy is in the case of solving a maze. Lets say the agent already has one route out of the maze but the maze has multiple routes, in such a case it is important to let the agent take random actions and gather new information and eventually discover these other routes. Once we have explored all routes we can then let the agent choose the actions that reward the highest.\n",
        "\n",
        "4b)\n",
        "Reinforcement learning learns sequentially based on the rewards it gets or dont get when taking actions. The actions it takes are either taken through exploration which was mentioned before or exploitation where the agent takes action based on previous data on what rewards the highest.  \n",
        "\n",
        "Supervised learning tasks like regression or classification learn by getting 'fed' data with an input and gets its output labeled. For an example the input could be an image and the output label could be a horse. When enough data has been put in the model then the model can make predictions on new images based on the previous data. The quality and variety of the data is very important for correct labeling of new data.\n",
        "\n",
        "So one can say that the difference is that in reinforcement learning the model has a long term goal of maximum cumulative rewards while the supervised learning model has a more short term goal that is to correctly label a new input based on previous data.\n",
        "\n"
      ],
      "metadata": {
        "id": "0Rm_YOWySXQf"
      }
    },
    {
      "cell_type": "markdown",
      "metadata": {
        "id": "I1iFSvirqItV"
      },
      "source": [
        "## Question 5\n",
        "\n",
        "**5a)** Give a summary of how a decision tree works and how it extends to random forests.\n",
        "\n",
        "**5b)** State at least one advantage and one drawback with using random forests over decision trees."
      ]
    },
    {
      "cell_type": "markdown",
      "source": [
        "5a)A decision tree is an algorithm that  works like a tree of sequential decisions that leads to the final output. What nodes that come first depends on feature importance, something that is carefully chosen using some criteria.\n",
        "\n",
        "Random forests are a collection of decision trees where the feature nodes are chosen at random and the decision trees are combined at random to deliver the final outcome.\n",
        "\n",
        "5b) Random forests are more accurate but take longer to compute then decision trees this means that decision trees could be a better choice for simpler models. Random forests has more feature nodes so it takes into account features that could be important that is not accounted for by decision trees."
      ],
      "metadata": {
        "id": "82kUirfEJDd7"
      }
    },
    {
      "cell_type": "markdown",
      "metadata": {
        "id": "-yHCotQGqItV"
      },
      "source": [
        "\n",
        "# References\n",
        "Primer/text based on the following references:\n",
        "* http://www.cse.chalmers.se/~chrdimi/downloads/book.pdf\n",
        "* https://github.com/olethrosdc/ml-society-science/blob/master/notes.pdf"
      ]
    }
  ],
  "metadata": {
    "colab": {
      "provenance": [],
      "include_colab_link": true
    },
    "kernelspec": {
      "display_name": "Python 3",
      "language": "python",
      "name": "python3"
    },
    "language_info": {
      "codemirror_mode": {
        "name": "ipython",
        "version": 3
      },
      "file_extension": ".py",
      "mimetype": "text/x-python",
      "name": "python",
      "nbconvert_exporter": "python",
      "pygments_lexer": "ipython3",
      "version": "3.9.5"
    },
    "vscode": {
      "interpreter": {
        "hash": "123ec00200262563abc7db73a7df297e3839d21b30cef8aa24288688fdbde7de"
      }
    }
  },
  "nbformat": 4,
  "nbformat_minor": 0
}